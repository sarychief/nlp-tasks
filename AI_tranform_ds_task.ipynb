{
  "nbformat": 4,
  "nbformat_minor": 0,
  "metadata": {
    "colab": {
      "provenance": [],
      "authorship_tag": "ABX9TyO6ww0U/xVW76/MB4CA+Ibw",
      "include_colab_link": true
    },
    "kernelspec": {
      "name": "python3",
      "display_name": "Python 3"
    },
    "language_info": {
      "name": "python"
    }
  },
  "cells": [
    {
      "cell_type": "markdown",
      "metadata": {
        "id": "view-in-github",
        "colab_type": "text"
      },
      "source": [
        "<a href=\"https://colab.research.google.com/github/sarychief/nlp-tasks/blob/main/AI_tranform_ds_task.ipynb\" target=\"_parent\"><img src=\"https://colab.research.google.com/assets/colab-badge.svg\" alt=\"Open In Colab\"/></a>"
      ]
    },
    {
      "cell_type": "markdown",
      "source": [
        "В данных представлены отзывы на банки с сайта [banki.ru](https://www.banki.ru/)\n",
        "- body - сам отзыв\n",
        "- title - название отзыва\n",
        "- rating - оценка по отзыву, варьируется от 1 до 5\n",
        "- bank_name - название банка\n",
        "- date - дата публикации отзыва\n",
        "\n",
        "Необходимо EDA (Exploratory Data Analysis) по этим данным и сделать несколько выводов (приветствуются визуализации):\n",
        "- назвать топ-15 банков по числу отзывов\n",
        "- какой банк из числа топ-15 по отзывов имеет самый высокий средний рейтинг?\n",
        "- сделать выводы об изменении среднего рейтинга банков по месяцам из топ-5 банков по числу отзывов\n",
        "- нет ли в данных в целом каких-то странностей на ваш взгляд?\n",
        "- дополнительный EDA на ваше усмотрение, возможные интересные наблюдения\n",
        "\n",
        "Необходимо выбрать метрику и построить бинарный классификатор отзывов, добившись при этом лучшей метрики на валидационной выборке (отзывы >=3 считать положительными, <3 - отрицательными)\n",
        "\n",
        "Будет плюсом визуализация результатов работы модели (ответ на вопрос: почему построенная модель считает этот отзыв положительным или отрицательным?)\n",
        "\n",
        "\n",
        "\n"
      ],
      "metadata": {
        "id": "lrJv9mplHtvk"
      }
    },
    {
      "cell_type": "code",
      "source": [
        "import re\n",
        "import datetime\n",
        "\n",
        "import numpy as np\n",
        "import pandas as pd\n",
        "import matplotlib.pyplot as plt\n",
        "import seaborn as sns\n",
        "\n",
        "import contractions\n",
        "from bs4 import BeautifulSoup\n",
        "import tqdm\n",
        "import unicodedata\n",
        "import nltk\n",
        "\n",
        "import tensorflow as tf\n",
        "from tensorflow.keras.models import Sequential\n",
        "from tensorflow.keras.layers import Dense\n",
        "from tensorflow.keras.layers import Dropout\n",
        "from tensorflow.keras.layers import Flatten\n",
        "from tensorflow.keras.layers import Conv1D\n",
        "from tensorflow.keras.layers import MaxPooling1D\n",
        "from tensorflow.keras.layers import Embedding\n",
        "from tensorflow.keras.layers import LSTM\n",
        "from tensorflow.keras.preprocessing.text import Tokenizer\n",
        "from tensorflow.keras.preprocessing import sequence\n",
        "\n",
        "from sklearn.preprocessing import LabelEncoder"
      ],
      "metadata": {
        "id": "jfnaidoBHvOw"
      },
      "execution_count": 46,
      "outputs": []
    },
    {
      "cell_type": "code",
      "source": [
        "# чтение файла\n",
        "data = pd.read_csv(\"/content/data.csv.gz\", encoding=\"utf8\")"
      ],
      "metadata": {
        "id": "5IoGL3Y3I7Il"
      },
      "execution_count": 18,
      "outputs": []
    },
    {
      "cell_type": "markdown",
      "source": [
        "Информация о данных: количество строк, столбцов, имен столбцов, ненулевых значений и типов данных"
      ],
      "metadata": {
        "id": "FKUom_X-yt6L"
      }
    },
    {
      "cell_type": "code",
      "source": [
        "data.info()"
      ],
      "metadata": {
        "colab": {
          "base_uri": "https://localhost:8080/"
        },
        "id": "Oja9VyWmQRV7",
        "outputId": "d0ff58c4-9205-4a10-8cc2-1463176c5024"
      },
      "execution_count": 19,
      "outputs": [
        {
          "output_type": "stream",
          "name": "stdout",
          "text": [
            "<class 'pandas.core.frame.DataFrame'>\n",
            "RangeIndex: 92735 entries, 0 to 92734\n",
            "Data columns (total 5 columns):\n",
            " #   Column     Non-Null Count  Dtype \n",
            "---  ------     --------------  ----- \n",
            " 0   body       92735 non-null  object\n",
            " 1   title      92735 non-null  object\n",
            " 2   rating     92735 non-null  int64 \n",
            " 3   bank_name  92735 non-null  object\n",
            " 4   date       92735 non-null  object\n",
            "dtypes: int64(1), object(4)\n",
            "memory usage: 3.5+ MB\n"
          ]
        }
      ]
    },
    {
      "cell_type": "markdown",
      "source": [
        "Статистика о числовых столбцах, таких как счетчик, среднее значение, мин, макс и квартили"
      ],
      "metadata": {
        "id": "o-ule37RysQn"
      }
    },
    {
      "cell_type": "code",
      "source": [
        "data.describe()"
      ],
      "metadata": {
        "colab": {
          "base_uri": "https://localhost:8080/",
          "height": 300
        },
        "id": "xbrIt_niQTpn",
        "outputId": "801ba71a-f19f-4784-df54-cf3b8e8880e7"
      },
      "execution_count": 20,
      "outputs": [
        {
          "output_type": "execute_result",
          "data": {
            "text/plain": [
              "             rating\n",
              "count  92735.000000\n",
              "mean       4.064086\n",
              "std        1.620702\n",
              "min        1.000000\n",
              "25%        4.000000\n",
              "50%        5.000000\n",
              "75%        5.000000\n",
              "max        5.000000"
            ],
            "text/html": [
              "\n",
              "  <div id=\"df-ee1c41be-7eb7-4366-b618-b38d4aa5b3c7\">\n",
              "    <div class=\"colab-df-container\">\n",
              "      <div>\n",
              "<style scoped>\n",
              "    .dataframe tbody tr th:only-of-type {\n",
              "        vertical-align: middle;\n",
              "    }\n",
              "\n",
              "    .dataframe tbody tr th {\n",
              "        vertical-align: top;\n",
              "    }\n",
              "\n",
              "    .dataframe thead th {\n",
              "        text-align: right;\n",
              "    }\n",
              "</style>\n",
              "<table border=\"1\" class=\"dataframe\">\n",
              "  <thead>\n",
              "    <tr style=\"text-align: right;\">\n",
              "      <th></th>\n",
              "      <th>rating</th>\n",
              "    </tr>\n",
              "  </thead>\n",
              "  <tbody>\n",
              "    <tr>\n",
              "      <th>count</th>\n",
              "      <td>92735.000000</td>\n",
              "    </tr>\n",
              "    <tr>\n",
              "      <th>mean</th>\n",
              "      <td>4.064086</td>\n",
              "    </tr>\n",
              "    <tr>\n",
              "      <th>std</th>\n",
              "      <td>1.620702</td>\n",
              "    </tr>\n",
              "    <tr>\n",
              "      <th>min</th>\n",
              "      <td>1.000000</td>\n",
              "    </tr>\n",
              "    <tr>\n",
              "      <th>25%</th>\n",
              "      <td>4.000000</td>\n",
              "    </tr>\n",
              "    <tr>\n",
              "      <th>50%</th>\n",
              "      <td>5.000000</td>\n",
              "    </tr>\n",
              "    <tr>\n",
              "      <th>75%</th>\n",
              "      <td>5.000000</td>\n",
              "    </tr>\n",
              "    <tr>\n",
              "      <th>max</th>\n",
              "      <td>5.000000</td>\n",
              "    </tr>\n",
              "  </tbody>\n",
              "</table>\n",
              "</div>\n",
              "      <button class=\"colab-df-convert\" onclick=\"convertToInteractive('df-ee1c41be-7eb7-4366-b618-b38d4aa5b3c7')\"\n",
              "              title=\"Convert this dataframe to an interactive table.\"\n",
              "              style=\"display:none;\">\n",
              "        \n",
              "  <svg xmlns=\"http://www.w3.org/2000/svg\" height=\"24px\"viewBox=\"0 0 24 24\"\n",
              "       width=\"24px\">\n",
              "    <path d=\"M0 0h24v24H0V0z\" fill=\"none\"/>\n",
              "    <path d=\"M18.56 5.44l.94 2.06.94-2.06 2.06-.94-2.06-.94-.94-2.06-.94 2.06-2.06.94zm-11 1L8.5 8.5l.94-2.06 2.06-.94-2.06-.94L8.5 2.5l-.94 2.06-2.06.94zm10 10l.94 2.06.94-2.06 2.06-.94-2.06-.94-.94-2.06-.94 2.06-2.06.94z\"/><path d=\"M17.41 7.96l-1.37-1.37c-.4-.4-.92-.59-1.43-.59-.52 0-1.04.2-1.43.59L10.3 9.45l-7.72 7.72c-.78.78-.78 2.05 0 2.83L4 21.41c.39.39.9.59 1.41.59.51 0 1.02-.2 1.41-.59l7.78-7.78 2.81-2.81c.8-.78.8-2.07 0-2.86zM5.41 20L4 18.59l7.72-7.72 1.47 1.35L5.41 20z\"/>\n",
              "  </svg>\n",
              "      </button>\n",
              "      \n",
              "  <style>\n",
              "    .colab-df-container {\n",
              "      display:flex;\n",
              "      flex-wrap:wrap;\n",
              "      gap: 12px;\n",
              "    }\n",
              "\n",
              "    .colab-df-convert {\n",
              "      background-color: #E8F0FE;\n",
              "      border: none;\n",
              "      border-radius: 50%;\n",
              "      cursor: pointer;\n",
              "      display: none;\n",
              "      fill: #1967D2;\n",
              "      height: 32px;\n",
              "      padding: 0 0 0 0;\n",
              "      width: 32px;\n",
              "    }\n",
              "\n",
              "    .colab-df-convert:hover {\n",
              "      background-color: #E2EBFA;\n",
              "      box-shadow: 0px 1px 2px rgba(60, 64, 67, 0.3), 0px 1px 3px 1px rgba(60, 64, 67, 0.15);\n",
              "      fill: #174EA6;\n",
              "    }\n",
              "\n",
              "    [theme=dark] .colab-df-convert {\n",
              "      background-color: #3B4455;\n",
              "      fill: #D2E3FC;\n",
              "    }\n",
              "\n",
              "    [theme=dark] .colab-df-convert:hover {\n",
              "      background-color: #434B5C;\n",
              "      box-shadow: 0px 1px 3px 1px rgba(0, 0, 0, 0.15);\n",
              "      filter: drop-shadow(0px 1px 2px rgba(0, 0, 0, 0.3));\n",
              "      fill: #FFFFFF;\n",
              "    }\n",
              "  </style>\n",
              "\n",
              "      <script>\n",
              "        const buttonEl =\n",
              "          document.querySelector('#df-ee1c41be-7eb7-4366-b618-b38d4aa5b3c7 button.colab-df-convert');\n",
              "        buttonEl.style.display =\n",
              "          google.colab.kernel.accessAllowed ? 'block' : 'none';\n",
              "\n",
              "        async function convertToInteractive(key) {\n",
              "          const element = document.querySelector('#df-ee1c41be-7eb7-4366-b618-b38d4aa5b3c7');\n",
              "          const dataTable =\n",
              "            await google.colab.kernel.invokeFunction('convertToInteractive',\n",
              "                                                     [key], {});\n",
              "          if (!dataTable) return;\n",
              "\n",
              "          const docLinkHtml = 'Like what you see? Visit the ' +\n",
              "            '<a target=\"_blank\" href=https://colab.research.google.com/notebooks/data_table.ipynb>data table notebook</a>'\n",
              "            + ' to learn more about interactive tables.';\n",
              "          element.innerHTML = '';\n",
              "          dataTable['output_type'] = 'display_data';\n",
              "          await google.colab.output.renderOutput(dataTable, element);\n",
              "          const docLink = document.createElement('div');\n",
              "          docLink.innerHTML = docLinkHtml;\n",
              "          element.appendChild(docLink);\n",
              "        }\n",
              "      </script>\n",
              "    </div>\n",
              "  </div>\n",
              "  "
            ]
          },
          "metadata": {},
          "execution_count": 20
        }
      ]
    },
    {
      "cell_type": "code",
      "source": [
        "plt.figure(figsize=(16,9))\n",
        "sns.kdeplot(data.rating)"
      ],
      "metadata": {
        "colab": {
          "base_uri": "https://localhost:8080/",
          "height": 568
        },
        "id": "qBqkLQHKF3AG",
        "outputId": "ebdd2c03-a85e-4fc7-a7cf-2c7ec8abed86"
      },
      "execution_count": 63,
      "outputs": [
        {
          "output_type": "execute_result",
          "data": {
            "text/plain": [
              "<matplotlib.axes._subplots.AxesSubplot at 0x7ff1e7c90f70>"
            ]
          },
          "metadata": {},
          "execution_count": 63
        },
        {
          "output_type": "display_data",
          "data": {
            "text/plain": [
              "<Figure size 1152x648 with 1 Axes>"
            ],
            "image/png": "[encoded data removed]"
          },
          "metadata": {
            "needs_background": "light"
          }
        }
      ]
    },
    {
      "cell_type": "markdown",
      "source": [
        "Можно сделать вывод, что люди в целом склонны ставить либо  самую максимальную (что чаще всего), либо самую минимальную. \n"
      ],
      "metadata": {
        "id": "o9mSCM5hGNMW"
      }
    },
    {
      "cell_type": "markdown",
      "source": [
        "Выведем первые 5 полей датафрейма"
      ],
      "metadata": {
        "id": "cTZOr3O5ypnI"
      }
    },
    {
      "cell_type": "code",
      "source": [
        "data.head()"
      ],
      "metadata": {
        "colab": {
          "base_uri": "https://localhost:8080/",
          "height": 285
        },
        "id": "RwW10BO_Jvqa",
        "outputId": "2b244de9-b14f-4f60-b82f-dc5b7a33ebf7"
      },
      "execution_count": 21,
      "outputs": [
        {
          "output_type": "execute_result",
          "data": {
            "text/plain": [
              "                                                body  \\\n",
              "0  &lt;p&gt;Добрый день&lt;/p&gt;\\r\\n&lt;p&gt;пиш...   \n",
              "1  &lt;p&gt;При возврате просроченной задолженнос...   \n",
              "2  &lt;p&gt;07.09.22 ю была оформлена кредитная к...   \n",
              "3  &lt;p&gt;Новый год начинается с приятностей)&l...   \n",
              "4  &lt;p&gt;Увидела на сайте Газпромбанка акцию с...   \n",
              "\n",
              "                                               title  rating      bank_name  \\\n",
              "0                             Заблокировали средства       1      Еком Банк   \n",
              "1                 Возврат просроченной задолженномти       1  Тинькофф Банк   \n",
              "2  Ошибочное начисление комиссии, затягивание про...       1  Банк Открытие   \n",
              "3                    Клиентоориентиванность 10 из 10       5  Тинькофф Банк   \n",
              "4  Как Газпромбанк обманывает клиентов с акционны...       1    Газпромбанк   \n",
              "\n",
              "                  date  \n",
              "0  2023-01-03 12:46:11  \n",
              "1  2023-01-03 12:31:46  \n",
              "2  2023-01-03 12:23:11  \n",
              "3  2023-01-03 12:16:07  \n",
              "4  2023-01-03 12:12:36  "
            ],
            "text/html": [
              "\n",
              "  <div id=\"df-eda62342-4bb5-4b72-8cd6-5ee25a988777\">\n",
              "    <div class=\"colab-df-container\">\n",
              "      <div>\n",
              "<style scoped>\n",
              "    .dataframe tbody tr th:only-of-type {\n",
              "        vertical-align: middle;\n",
              "    }\n",
              "\n",
              "    .dataframe tbody tr th {\n",
              "        vertical-align: top;\n",
              "    }\n",
              "\n",
              "    .dataframe thead th {\n",
              "        text-align: right;\n",
              "    }\n",
              "</style>\n",
              "<table border=\"1\" class=\"dataframe\">\n",
              "  <thead>\n",
              "    <tr style=\"text-align: right;\">\n",
              "      <th></th>\n",
              "      <th>body</th>\n",
              "      <th>title</th>\n",
              "      <th>rating</th>\n",
              "      <th>bank_name</th>\n",
              "      <th>date</th>\n",
              "    </tr>\n",
              "  </thead>\n",
              "  <tbody>\n",
              "    <tr>\n",
              "      <th>0</th>\n",
              "      <td>&amp;lt;p&amp;gt;Добрый день&amp;lt;/p&amp;gt;\\r\\n&amp;lt;p&amp;gt;пиш...</td>\n",
              "      <td>Заблокировали средства</td>\n",
              "      <td>1</td>\n",
              "      <td>Еком Банк</td>\n",
              "      <td>2023-01-03 12:46:11</td>\n",
              "    </tr>\n",
              "    <tr>\n",
              "      <th>1</th>\n",
              "      <td>&amp;lt;p&amp;gt;При возврате просроченной задолженнос...</td>\n",
              "      <td>Возврат просроченной задолженномти</td>\n",
              "      <td>1</td>\n",
              "      <td>Тинькофф Банк</td>\n",
              "      <td>2023-01-03 12:31:46</td>\n",
              "    </tr>\n",
              "    <tr>\n",
              "      <th>2</th>\n",
              "      <td>&amp;lt;p&amp;gt;07.09.22 ю была оформлена кредитная к...</td>\n",
              "      <td>Ошибочное начисление комиссии, затягивание про...</td>\n",
              "      <td>1</td>\n",
              "      <td>Банк Открытие</td>\n",
              "      <td>2023-01-03 12:23:11</td>\n",
              "    </tr>\n",
              "    <tr>\n",
              "      <th>3</th>\n",
              "      <td>&amp;lt;p&amp;gt;Новый год начинается с приятностей)&amp;l...</td>\n",
              "      <td>Клиентоориентиванность 10 из 10</td>\n",
              "      <td>5</td>\n",
              "      <td>Тинькофф Банк</td>\n",
              "      <td>2023-01-03 12:16:07</td>\n",
              "    </tr>\n",
              "    <tr>\n",
              "      <th>4</th>\n",
              "      <td>&amp;lt;p&amp;gt;Увидела на сайте Газпромбанка акцию с...</td>\n",
              "      <td>Как Газпромбанк обманывает клиентов с акционны...</td>\n",
              "      <td>1</td>\n",
              "      <td>Газпромбанк</td>\n",
              "      <td>2023-01-03 12:12:36</td>\n",
              "    </tr>\n",
              "  </tbody>\n",
              "</table>\n",
              "</div>\n",
              "      <button class=\"colab-df-convert\" onclick=\"convertToInteractive('df-eda62342-4bb5-4b72-8cd6-5ee25a988777')\"\n",
              "              title=\"Convert this dataframe to an interactive table.\"\n",
              "              style=\"display:none;\">\n",
              "        \n",
              "  <svg xmlns=\"http://www.w3.org/2000/svg\" height=\"24px\"viewBox=\"0 0 24 24\"\n",
              "       width=\"24px\">\n",
              "    <path d=\"M0 0h24v24H0V0z\" fill=\"none\"/>\n",
              "    <path d=\"M18.56 5.44l.94 2.06.94-2.06 2.06-.94-2.06-.94-.94-2.06-.94 2.06-2.06.94zm-11 1L8.5 8.5l.94-2.06 2.06-.94-2.06-.94L8.5 2.5l-.94 2.06-2.06.94zm10 10l.94 2.06.94-2.06 2.06-.94-2.06-.94-.94-2.06-.94 2.06-2.06.94z\"/><path d=\"M17.41 7.96l-1.37-1.37c-.4-.4-.92-.59-1.43-.59-.52 0-1.04.2-1.43.59L10.3 9.45l-7.72 7.72c-.78.78-.78 2.05 0 2.83L4 21.41c.39.39.9.59 1.41.59.51 0 1.02-.2 1.41-.59l7.78-7.78 2.81-2.81c.8-.78.8-2.07 0-2.86zM5.41 20L4 18.59l7.72-7.72 1.47 1.35L5.41 20z\"/>\n",
              "  </svg>\n",
              "      </button>\n",
              "      \n",
              "  <style>\n",
              "    .colab-df-container {\n",
              "      display:flex;\n",
              "      flex-wrap:wrap;\n",
              "      gap: 12px;\n",
              "    }\n",
              "\n",
              "    .colab-df-convert {\n",
              "      background-color: #E8F0FE;\n",
              "      border: none;\n",
              "      border-radius: 50%;\n",
              "      cursor: pointer;\n",
              "      display: none;\n",
              "      fill: #1967D2;\n",
              "      height: 32px;\n",
              "      padding: 0 0 0 0;\n",
              "      width: 32px;\n",
              "    }\n",
              "\n",
              "    .colab-df-convert:hover {\n",
              "      background-color: #E2EBFA;\n",
              "      box-shadow: 0px 1px 2px rgba(60, 64, 67, 0.3), 0px 1px 3px 1px rgba(60, 64, 67, 0.15);\n",
              "      fill: #174EA6;\n",
              "    }\n",
              "\n",
              "    [theme=dark] .colab-df-convert {\n",
              "      background-color: #3B4455;\n",
              "      fill: #D2E3FC;\n",
              "    }\n",
              "\n",
              "    [theme=dark] .colab-df-convert:hover {\n",
              "      background-color: #434B5C;\n",
              "      box-shadow: 0px 1px 3px 1px rgba(0, 0, 0, 0.15);\n",
              "      filter: drop-shadow(0px 1px 2px rgba(0, 0, 0, 0.3));\n",
              "      fill: #FFFFFF;\n",
              "    }\n",
              "  </style>\n",
              "\n",
              "      <script>\n",
              "        const buttonEl =\n",
              "          document.querySelector('#df-eda62342-4bb5-4b72-8cd6-5ee25a988777 button.colab-df-convert');\n",
              "        buttonEl.style.display =\n",
              "          google.colab.kernel.accessAllowed ? 'block' : 'none';\n",
              "\n",
              "        async function convertToInteractive(key) {\n",
              "          const element = document.querySelector('#df-eda62342-4bb5-4b72-8cd6-5ee25a988777');\n",
              "          const dataTable =\n",
              "            await google.colab.kernel.invokeFunction('convertToInteractive',\n",
              "                                                     [key], {});\n",
              "          if (!dataTable) return;\n",
              "\n",
              "          const docLinkHtml = 'Like what you see? Visit the ' +\n",
              "            '<a target=\"_blank\" href=https://colab.research.google.com/notebooks/data_table.ipynb>data table notebook</a>'\n",
              "            + ' to learn more about interactive tables.';\n",
              "          element.innerHTML = '';\n",
              "          dataTable['output_type'] = 'display_data';\n",
              "          await google.colab.output.renderOutput(dataTable, element);\n",
              "          const docLink = document.createElement('div');\n",
              "          docLink.innerHTML = docLinkHtml;\n",
              "          element.appendChild(docLink);\n",
              "        }\n",
              "      </script>\n",
              "    </div>\n",
              "  </div>\n",
              "  "
            ]
          },
          "metadata": {},
          "execution_count": 21
        }
      ]
    },
    {
      "cell_type": "markdown",
      "source": [
        "Список всех банков с сайта"
      ],
      "metadata": {
        "id": "G3mzJLd_yJZD"
      }
    },
    {
      "cell_type": "code",
      "source": [
        "data.bank_name.unique()"
      ],
      "metadata": {
        "colab": {
          "base_uri": "https://localhost:8080/"
        },
        "id": "rtHWsTwILBNh",
        "outputId": "af764f41-568c-48ae-8691-bba4a574c5a4"
      },
      "execution_count": 22,
      "outputs": [
        {
          "output_type": "execute_result",
          "data": {
            "text/plain": [
              "array(['Еком Банк', 'Тинькофф Банк', 'Банк Открытие', 'Газпромбанк',\n",
              "       'Точка', 'ВТБ', 'Почта Банк', 'Хоум Кредит Банк', 'ОТП Банк',\n",
              "       'Банк «Санкт-Петербург»', 'Совкомбанк', 'Альфа-Банк', 'Ак Барс',\n",
              "       'Модульбанк', 'ЮниКредит Банк', 'Россельхозбанк', 'СберБанк',\n",
              "       'МТС Банк', 'Озон Банк', 'Александровский', 'Ситибанк',\n",
              "       'КИВИ Банк', 'Росбанк', 'Кредит Европа Банк', 'Транскапиталбанк',\n",
              "       'Ренессанс Кредит', 'Райффайзен Банк', 'ЮMoney', 'ББР Банк',\n",
              "       'Московский Кредитный Банк',\n",
              "       'Всероссийский Банк Развития Регионов', 'Авангард',\n",
              "       'Азиатско-Тихоокеанский Банк', 'Драйв Клик Банк', 'Промсвязьбанк',\n",
              "       'Уральский Банк Реконструкции и Развития', 'Русский Стандарт',\n",
              "       'Руснарбанк', 'Юнистрим', 'Абсолют Банк', 'Банк ДОМ.РФ',\n",
              "       'БКС Банк', 'Банк Зенит', 'Банк Уралсиб', 'Кубань Кредит',\n",
              "       'Локо-Банк', 'Татсоцбанк', 'Финам Банк', 'Норвик Банк',\n",
              "       'Банк Синара (СКБ-банк)', 'Экспобанк', 'Хлынов', 'Икано Банк',\n",
              "       'Банк Акцепт', 'Московский Индустриальный Банк', 'Делобанк',\n",
              "       'Центр-инвест', 'СМП Банк', 'Таврический Банк', 'Союз',\n",
              "       'Владбизнесбанк', 'АвтоКредитБанк', 'Костромаселькомбанк', 'Бланк',\n",
              "       'Белгородсоцбанк', 'Цифра банк', 'Банк Казани', 'Агророс',\n",
              "       'ПростоБанк', 'Реалист Банк', 'БыстроБанк', 'Яндекс Банк',\n",
              "       'Агропромкредит', 'Фора-Банк', 'Банк Жилищного Финансирования',\n",
              "       'Агора', 'СПБ Банк', 'ЖК «1-й Нагатинский»', 'Эс-Би-Ай Банк',\n",
              "       'Пойдём!', 'Национальный Стандарт', 'Банк Раунд', 'Таганрогбанк',\n",
              "       'Московский Коммерческий Банк', 'Ростфинанс',\n",
              "       'Индустриальный Сберегательный Банк', 'БМВ Банк',\n",
              "       'Московский Областной Банк', 'Камкомбанк', 'Россия',\n",
              "       'Солидарность', 'РНКБ', 'Новикомбанк', 'Екатеринбург', 'Алеф-Банк',\n",
              "       'Банк Пермь', 'Левобережный',\n",
              "       'Петербургский Социальный Коммерческий Банк', 'Приморье',\n",
              "       'Ланта-Банк', 'Примсоцбанк', 'Кузнецкбизнесбанк',\n",
              "       'Челябинвестбанк', 'Газэнергобанк', 'Эйч-Эс-Би-Си Банк (HSBC)',\n",
              "       'Москва-Сити', 'Балтинвестбанк', 'Москоммерцбанк',\n",
              "       'Кредит Урал Банк', 'Саратов', 'Калуга', 'Металлинвестбанк',\n",
              "       'Денизбанк Москва', 'Первый Инвестиционный Банк',\n",
              "       'Кетовский Коммерческий Банк', 'БМ-Банк', 'МС Банк Рус',\n",
              "       'Промтрансбанк', 'Мир Бизнес Банк', 'Трансстройбанк', 'Аверс',\n",
              "       'Инвестторгбанк', 'Генбанк', 'Столичный Кредит', 'Банк Финсервис',\n",
              "       'Венец', 'Солид Банк', 'МСП Банк', 'Датабанк', 'Севергазбанк',\n",
              "       'Мерседес-Бенц Банк Рус', 'РН Банк', 'Банк Интеза',\n",
              "       'Сургутнефтегазбанк', 'Морской Банк', 'Банк Глобус', 'Итуруп',\n",
              "       'Муниципальный Камчатпрофитбанк', 'Вайлдберриз Банк', 'НИКО-Банк',\n",
              "       'Энерготрансбанк', 'Акибанк', 'ВУЗ-Банк', 'Гарант-Инвест',\n",
              "       'НБД-Банк', 'Урал ФД', 'Алмазэргиэнбанк', 'Банк Оранжевый',\n",
              "       'НС Банк', 'СДМ-Банк', 'Дальневосточный Банк', 'МТИ Банк',\n",
              "       'Моби.Деньги', 'TalkBank', 'Хакасский Муниципальный Банк',\n",
              "       'Ишбанк', 'Национальный Резервный Банк'], dtype=object)"
            ]
          },
          "metadata": {},
          "execution_count": 22
        }
      ]
    },
    {
      "cell_type": "markdown",
      "source": [
        "---\n",
        "### Топ-15 банков по рейтингу"
      ],
      "metadata": {
        "id": "Z2rnyBgnyDHh"
      }
    },
    {
      "cell_type": "code",
      "source": [
        "(data\n",
        " .groupby('bank_name', as_index=False)\n",
        " .agg({\"rating\": 'mean'})\n",
        " .sort_values([\"rating\"], ascending=[False])\n",
        " .head(15)\n",
        ")"
      ],
      "metadata": {
        "colab": {
          "base_uri": "https://localhost:8080/",
          "height": 520
        },
        "id": "6GSxIJD_Qr5N",
        "outputId": "fb505619-045d-4955-fec5-5f6b04ddf989"
      },
      "execution_count": 58,
      "outputs": [
        {
          "output_type": "execute_result",
          "data": {
            "text/plain": [
              "                          bank_name    rating\n",
              "0                          TalkBank  5.000000\n",
              "134                      Татсоцбанк  5.000000\n",
              "79                  Мир Бизнес Банк  5.000000\n",
              "65              Костромаселькомбанк  5.000000\n",
              "62                           Калуга  5.000000\n",
              "60                           Ишбанк  5.000000\n",
              "89   Муниципальный Камчатпрофитбанк  5.000000\n",
              "46                    Гарант-Инвест  5.000000\n",
              "106                   Промтрансбанк  5.000000\n",
              "35                  Белгородсоцбанк  5.000000\n",
              "119                        СДМ-Банк  5.000000\n",
              "75                         МТИ Банк  5.000000\n",
              "3                             Аверс  5.000000\n",
              "6                    Агропромкредит  5.000000\n",
              "146                    Центр-инвест  4.851406"
            ],
            "text/html": [
              "\n",
              "  <div id=\"df-9551a21b-b725-466a-8427-5703aa4b2d32\">\n",
              "    <div class=\"colab-df-container\">\n",
              "      <div>\n",
              "<style scoped>\n",
              "    .dataframe tbody tr th:only-of-type {\n",
              "        vertical-align: middle;\n",
              "    }\n",
              "\n",
              "    .dataframe tbody tr th {\n",
              "        vertical-align: top;\n",
              "    }\n",
              "\n",
              "    .dataframe thead th {\n",
              "        text-align: right;\n",
              "    }\n",
              "</style>\n",
              "<table border=\"1\" class=\"dataframe\">\n",
              "  <thead>\n",
              "    <tr style=\"text-align: right;\">\n",
              "      <th></th>\n",
              "      <th>bank_name</th>\n",
              "      <th>rating</th>\n",
              "    </tr>\n",
              "  </thead>\n",
              "  <tbody>\n",
              "    <tr>\n",
              "      <th>0</th>\n",
              "      <td>TalkBank</td>\n",
              "      <td>5.000000</td>\n",
              "    </tr>\n",
              "    <tr>\n",
              "      <th>134</th>\n",
              "      <td>Татсоцбанк</td>\n",
              "      <td>5.000000</td>\n",
              "    </tr>\n",
              "    <tr>\n",
              "      <th>79</th>\n",
              "      <td>Мир Бизнес Банк</td>\n",
              "      <td>5.000000</td>\n",
              "    </tr>\n",
              "    <tr>\n",
              "      <th>65</th>\n",
              "      <td>Костромаселькомбанк</td>\n",
              "      <td>5.000000</td>\n",
              "    </tr>\n",
              "    <tr>\n",
              "      <th>62</th>\n",
              "      <td>Калуга</td>\n",
              "      <td>5.000000</td>\n",
              "    </tr>\n",
              "    <tr>\n",
              "      <th>60</th>\n",
              "      <td>Ишбанк</td>\n",
              "      <td>5.000000</td>\n",
              "    </tr>\n",
              "    <tr>\n",
              "      <th>89</th>\n",
              "      <td>Муниципальный Камчатпрофитбанк</td>\n",
              "      <td>5.000000</td>\n",
              "    </tr>\n",
              "    <tr>\n",
              "      <th>46</th>\n",
              "      <td>Гарант-Инвест</td>\n",
              "      <td>5.000000</td>\n",
              "    </tr>\n",
              "    <tr>\n",
              "      <th>106</th>\n",
              "      <td>Промтрансбанк</td>\n",
              "      <td>5.000000</td>\n",
              "    </tr>\n",
              "    <tr>\n",
              "      <th>35</th>\n",
              "      <td>Белгородсоцбанк</td>\n",
              "      <td>5.000000</td>\n",
              "    </tr>\n",
              "    <tr>\n",
              "      <th>119</th>\n",
              "      <td>СДМ-Банк</td>\n",
              "      <td>5.000000</td>\n",
              "    </tr>\n",
              "    <tr>\n",
              "      <th>75</th>\n",
              "      <td>МТИ Банк</td>\n",
              "      <td>5.000000</td>\n",
              "    </tr>\n",
              "    <tr>\n",
              "      <th>3</th>\n",
              "      <td>Аверс</td>\n",
              "      <td>5.000000</td>\n",
              "    </tr>\n",
              "    <tr>\n",
              "      <th>6</th>\n",
              "      <td>Агропромкредит</td>\n",
              "      <td>5.000000</td>\n",
              "    </tr>\n",
              "    <tr>\n",
              "      <th>146</th>\n",
              "      <td>Центр-инвест</td>\n",
              "      <td>4.851406</td>\n",
              "    </tr>\n",
              "  </tbody>\n",
              "</table>\n",
              "</div>\n",
              "      <button class=\"colab-df-convert\" onclick=\"convertToInteractive('df-9551a21b-b725-466a-8427-5703aa4b2d32')\"\n",
              "              title=\"Convert this dataframe to an interactive table.\"\n",
              "              style=\"display:none;\">\n",
              "        \n",
              "  <svg xmlns=\"http://www.w3.org/2000/svg\" height=\"24px\"viewBox=\"0 0 24 24\"\n",
              "       width=\"24px\">\n",
              "    <path d=\"M0 0h24v24H0V0z\" fill=\"none\"/>\n",
              "    <path d=\"M18.56 5.44l.94 2.06.94-2.06 2.06-.94-2.06-.94-.94-2.06-.94 2.06-2.06.94zm-11 1L8.5 8.5l.94-2.06 2.06-.94-2.06-.94L8.5 2.5l-.94 2.06-2.06.94zm10 10l.94 2.06.94-2.06 2.06-.94-2.06-.94-.94-2.06-.94 2.06-2.06.94z\"/><path d=\"M17.41 7.96l-1.37-1.37c-.4-.4-.92-.59-1.43-.59-.52 0-1.04.2-1.43.59L10.3 9.45l-7.72 7.72c-.78.78-.78 2.05 0 2.83L4 21.41c.39.39.9.59 1.41.59.51 0 1.02-.2 1.41-.59l7.78-7.78 2.81-2.81c.8-.78.8-2.07 0-2.86zM5.41 20L4 18.59l7.72-7.72 1.47 1.35L5.41 20z\"/>\n",
              "  </svg>\n",
              "      </button>\n",
              "      \n",
              "  <style>\n",
              "    .colab-df-container {\n",
              "      display:flex;\n",
              "      flex-wrap:wrap;\n",
              "      gap: 12px;\n",
              "    }\n",
              "\n",
              "    .colab-df-convert {\n",
              "      background-color: #E8F0FE;\n",
              "      border: none;\n",
              "      border-radius: 50%;\n",
              "      cursor: pointer;\n",
              "      display: none;\n",
              "      fill: #1967D2;\n",
              "      height: 32px;\n",
              "      padding: 0 0 0 0;\n",
              "      width: 32px;\n",
              "    }\n",
              "\n",
              "    .colab-df-convert:hover {\n",
              "      background-color: #E2EBFA;\n",
              "      box-shadow: 0px 1px 2px rgba(60, 64, 67, 0.3), 0px 1px 3px 1px rgba(60, 64, 67, 0.15);\n",
              "      fill: #174EA6;\n",
              "    }\n",
              "\n",
              "    [theme=dark] .colab-df-convert {\n",
              "      background-color: #3B4455;\n",
              "      fill: #D2E3FC;\n",
              "    }\n",
              "\n",
              "    [theme=dark] .colab-df-convert:hover {\n",
              "      background-color: #434B5C;\n",
              "      box-shadow: 0px 1px 3px 1px rgba(0, 0, 0, 0.15);\n",
              "      filter: drop-shadow(0px 1px 2px rgba(0, 0, 0, 0.3));\n",
              "      fill: #FFFFFF;\n",
              "    }\n",
              "  </style>\n",
              "\n",
              "      <script>\n",
              "        const buttonEl =\n",
              "          document.querySelector('#df-9551a21b-b725-466a-8427-5703aa4b2d32 button.colab-df-convert');\n",
              "        buttonEl.style.display =\n",
              "          google.colab.kernel.accessAllowed ? 'block' : 'none';\n",
              "\n",
              "        async function convertToInteractive(key) {\n",
              "          const element = document.querySelector('#df-9551a21b-b725-466a-8427-5703aa4b2d32');\n",
              "          const dataTable =\n",
              "            await google.colab.kernel.invokeFunction('convertToInteractive',\n",
              "                                                     [key], {});\n",
              "          if (!dataTable) return;\n",
              "\n",
              "          const docLinkHtml = 'Like what you see? Visit the ' +\n",
              "            '<a target=\"_blank\" href=https://colab.research.google.com/notebooks/data_table.ipynb>data table notebook</a>'\n",
              "            + ' to learn more about interactive tables.';\n",
              "          element.innerHTML = '';\n",
              "          dataTable['output_type'] = 'display_data';\n",
              "          await google.colab.output.renderOutput(dataTable, element);\n",
              "          const docLink = document.createElement('div');\n",
              "          docLink.innerHTML = docLinkHtml;\n",
              "          element.appendChild(docLink);\n",
              "        }\n",
              "      </script>\n",
              "    </div>\n",
              "  </div>\n",
              "  "
            ]
          },
          "metadata": {},
          "execution_count": 58
        }
      ]
    },
    {
      "cell_type": "markdown",
      "source": [
        "Можно заметить, что максимальные оценки ставят малоизвестным банкам. Скорее всего это связано с малым количеством клиентов. Из предыдущенго графика можно предположить, что если клиента сервис устраивает, то он охотнее поставит максимальную оценку.  "
      ],
      "metadata": {
        "id": "lB9dCGedHzv3"
      }
    },
    {
      "cell_type": "markdown",
      "source": [
        "---\n",
        "### Топ-15 банков по количеству отзывов"
      ],
      "metadata": {
        "id": "VxwS_pjJyAOb"
      }
    },
    {
      "cell_type": "code",
      "source": [
        "(data\n",
        " .groupby('bank_name')\n",
        " .size()\n",
        " .reset_index(name='counts')\n",
        " .sort_values(by='counts', ascending=False)\n",
        " .head(15)\n",
        ")"
      ],
      "metadata": {
        "colab": {
          "base_uri": "https://localhost:8080/",
          "height": 520
        },
        "id": "8Q0e0z9yUQhD",
        "outputId": "9824d5e1-9c53-4f92-a4bb-5490d6245e2b"
      },
      "execution_count": 57,
      "outputs": [
        {
          "output_type": "execute_result",
          "data": {
            "text/plain": [
              "                                   bank_name  counts\n",
              "135                            Тинькофф Банк   44864\n",
              "145                         Хоум Кредит Банк    9310\n",
              "126                               Совкомбанк    6111\n",
              "38                                       ВТБ    3817\n",
              "123                                 СберБанк    3490\n",
              "14                                Альфа-Банк    3369\n",
              "114                           Россельхозбанк    3064\n",
              "29                             Банк Открытие    1894\n",
              "76                                  МТС Банк    1542\n",
              "81                                Модульбанк    1460\n",
              "44                               Газпромбанк    1314\n",
              "86                 Московский Кредитный Банк    1251\n",
              "8                Азиатско-Тихоокеанский Банк    1001\n",
              "140  Уральский Банк Реконструкции и Развития     748\n",
              "118                         Русский Стандарт     689"
            ],
            "text/html": [
              "\n",
              "  <div id=\"df-24547678-5e24-40fb-b0b1-4f6fb102b105\">\n",
              "    <div class=\"colab-df-container\">\n",
              "      <div>\n",
              "<style scoped>\n",
              "    .dataframe tbody tr th:only-of-type {\n",
              "        vertical-align: middle;\n",
              "    }\n",
              "\n",
              "    .dataframe tbody tr th {\n",
              "        vertical-align: top;\n",
              "    }\n",
              "\n",
              "    .dataframe thead th {\n",
              "        text-align: right;\n",
              "    }\n",
              "</style>\n",
              "<table border=\"1\" class=\"dataframe\">\n",
              "  <thead>\n",
              "    <tr style=\"text-align: right;\">\n",
              "      <th></th>\n",
              "      <th>bank_name</th>\n",
              "      <th>counts</th>\n",
              "    </tr>\n",
              "  </thead>\n",
              "  <tbody>\n",
              "    <tr>\n",
              "      <th>135</th>\n",
              "      <td>Тинькофф Банк</td>\n",
              "      <td>44864</td>\n",
              "    </tr>\n",
              "    <tr>\n",
              "      <th>145</th>\n",
              "      <td>Хоум Кредит Банк</td>\n",
              "      <td>9310</td>\n",
              "    </tr>\n",
              "    <tr>\n",
              "      <th>126</th>\n",
              "      <td>Совкомбанк</td>\n",
              "      <td>6111</td>\n",
              "    </tr>\n",
              "    <tr>\n",
              "      <th>38</th>\n",
              "      <td>ВТБ</td>\n",
              "      <td>3817</td>\n",
              "    </tr>\n",
              "    <tr>\n",
              "      <th>123</th>\n",
              "      <td>СберБанк</td>\n",
              "      <td>3490</td>\n",
              "    </tr>\n",
              "    <tr>\n",
              "      <th>14</th>\n",
              "      <td>Альфа-Банк</td>\n",
              "      <td>3369</td>\n",
              "    </tr>\n",
              "    <tr>\n",
              "      <th>114</th>\n",
              "      <td>Россельхозбанк</td>\n",
              "      <td>3064</td>\n",
              "    </tr>\n",
              "    <tr>\n",
              "      <th>29</th>\n",
              "      <td>Банк Открытие</td>\n",
              "      <td>1894</td>\n",
              "    </tr>\n",
              "    <tr>\n",
              "      <th>76</th>\n",
              "      <td>МТС Банк</td>\n",
              "      <td>1542</td>\n",
              "    </tr>\n",
              "    <tr>\n",
              "      <th>81</th>\n",
              "      <td>Модульбанк</td>\n",
              "      <td>1460</td>\n",
              "    </tr>\n",
              "    <tr>\n",
              "      <th>44</th>\n",
              "      <td>Газпромбанк</td>\n",
              "      <td>1314</td>\n",
              "    </tr>\n",
              "    <tr>\n",
              "      <th>86</th>\n",
              "      <td>Московский Кредитный Банк</td>\n",
              "      <td>1251</td>\n",
              "    </tr>\n",
              "    <tr>\n",
              "      <th>8</th>\n",
              "      <td>Азиатско-Тихоокеанский Банк</td>\n",
              "      <td>1001</td>\n",
              "    </tr>\n",
              "    <tr>\n",
              "      <th>140</th>\n",
              "      <td>Уральский Банк Реконструкции и Развития</td>\n",
              "      <td>748</td>\n",
              "    </tr>\n",
              "    <tr>\n",
              "      <th>118</th>\n",
              "      <td>Русский Стандарт</td>\n",
              "      <td>689</td>\n",
              "    </tr>\n",
              "  </tbody>\n",
              "</table>\n",
              "</div>\n",
              "      <button class=\"colab-df-convert\" onclick=\"convertToInteractive('df-24547678-5e24-40fb-b0b1-4f6fb102b105')\"\n",
              "              title=\"Convert this dataframe to an interactive table.\"\n",
              "              style=\"display:none;\">\n",
              "        \n",
              "  <svg xmlns=\"http://www.w3.org/2000/svg\" height=\"24px\"viewBox=\"0 0 24 24\"\n",
              "       width=\"24px\">\n",
              "    <path d=\"M0 0h24v24H0V0z\" fill=\"none\"/>\n",
              "    <path d=\"M18.56 5.44l.94 2.06.94-2.06 2.06-.94-2.06-.94-.94-2.06-.94 2.06-2.06.94zm-11 1L8.5 8.5l.94-2.06 2.06-.94-2.06-.94L8.5 2.5l-.94 2.06-2.06.94zm10 10l.94 2.06.94-2.06 2.06-.94-2.06-.94-.94-2.06-.94 2.06-2.06.94z\"/><path d=\"M17.41 7.96l-1.37-1.37c-.4-.4-.92-.59-1.43-.59-.52 0-1.04.2-1.43.59L10.3 9.45l-7.72 7.72c-.78.78-.78 2.05 0 2.83L4 21.41c.39.39.9.59 1.41.59.51 0 1.02-.2 1.41-.59l7.78-7.78 2.81-2.81c.8-.78.8-2.07 0-2.86zM5.41 20L4 18.59l7.72-7.72 1.47 1.35L5.41 20z\"/>\n",
              "  </svg>\n",
              "      </button>\n",
              "      \n",
              "  <style>\n",
              "    .colab-df-container {\n",
              "      display:flex;\n",
              "      flex-wrap:wrap;\n",
              "      gap: 12px;\n",
              "    }\n",
              "\n",
              "    .colab-df-convert {\n",
              "      background-color: #E8F0FE;\n",
              "      border: none;\n",
              "      border-radius: 50%;\n",
              "      cursor: pointer;\n",
              "      display: none;\n",
              "      fill: #1967D2;\n",
              "      height: 32px;\n",
              "      padding: 0 0 0 0;\n",
              "      width: 32px;\n",
              "    }\n",
              "\n",
              "    .colab-df-convert:hover {\n",
              "      background-color: #E2EBFA;\n",
              "      box-shadow: 0px 1px 2px rgba(60, 64, 67, 0.3), 0px 1px 3px 1px rgba(60, 64, 67, 0.15);\n",
              "      fill: #174EA6;\n",
              "    }\n",
              "\n",
              "    [theme=dark] .colab-df-convert {\n",
              "      background-color: #3B4455;\n",
              "      fill: #D2E3FC;\n",
              "    }\n",
              "\n",
              "    [theme=dark] .colab-df-convert:hover {\n",
              "      background-color: #434B5C;\n",
              "      box-shadow: 0px 1px 3px 1px rgba(0, 0, 0, 0.15);\n",
              "      filter: drop-shadow(0px 1px 2px rgba(0, 0, 0, 0.3));\n",
              "      fill: #FFFFFF;\n",
              "    }\n",
              "  </style>\n",
              "\n",
              "      <script>\n",
              "        const buttonEl =\n",
              "          document.querySelector('#df-24547678-5e24-40fb-b0b1-4f6fb102b105 button.colab-df-convert');\n",
              "        buttonEl.style.display =\n",
              "          google.colab.kernel.accessAllowed ? 'block' : 'none';\n",
              "\n",
              "        async function convertToInteractive(key) {\n",
              "          const element = document.querySelector('#df-24547678-5e24-40fb-b0b1-4f6fb102b105');\n",
              "          const dataTable =\n",
              "            await google.colab.kernel.invokeFunction('convertToInteractive',\n",
              "                                                     [key], {});\n",
              "          if (!dataTable) return;\n",
              "\n",
              "          const docLinkHtml = 'Like what you see? Visit the ' +\n",
              "            '<a target=\"_blank\" href=https://colab.research.google.com/notebooks/data_table.ipynb>data table notebook</a>'\n",
              "            + ' to learn more about interactive tables.';\n",
              "          element.innerHTML = '';\n",
              "          dataTable['output_type'] = 'display_data';\n",
              "          await google.colab.output.renderOutput(dataTable, element);\n",
              "          const docLink = document.createElement('div');\n",
              "          docLink.innerHTML = docLinkHtml;\n",
              "          element.appendChild(docLink);\n",
              "        }\n",
              "      </script>\n",
              "    </div>\n",
              "  </div>\n",
              "  "
            ]
          },
          "metadata": {},
          "execution_count": 57
        }
      ]
    },
    {
      "cell_type": "markdown",
      "source": [
        "Столь сильный перевес Тинькофф банка по количеству отзывов можно обосновать его стратегией клиентоориентированности. Чаще всего клиенты Тинькофф - это молодые люди, которые проводят больше времени в интернете, чем старшее поколение. Из этого можно предположить, что и большее количество клиентов этого банка склонны оставлять отзывы, чем других."
      ],
      "metadata": {
        "id": "Y5pW05NoIHH4"
      }
    },
    {
      "cell_type": "markdown",
      "source": [
        "---\n",
        "### Какой банк из числа топ-15 по отзывов имеет самый высокий средний рейтинг?"
      ],
      "metadata": {
        "id": "ZL_QptTrx7To"
      }
    },
    {
      "cell_type": "code",
      "source": [
        "(data\n",
        "     .groupby('bank_name')\n",
        "     .agg({\"bank_name\": \"count\", \"rating\": \"mean\"})\n",
        "     .rename(columns={\"bank_name\": \"bank_name_count\", \"rating\": \"mean_rating\"})\n",
        "     .sort_values(by='bank_name_count', ascending=False)\n",
        "     .head(15)\n",
        "     .sort_values(by='mean_rating', ascending=False)\n",
        "     .head(1)\n",
        ")"
      ],
      "metadata": {
        "colab": {
          "base_uri": "https://localhost:8080/",
          "height": 112
        },
        "id": "MMiVc8qbEtJK",
        "outputId": "cd5568b8-a25e-46e3-d769-bf5dc2cd2560"
      },
      "execution_count": 55,
      "outputs": [
        {
          "output_type": "execute_result",
          "data": {
            "text/plain": [
              "               bank_name_count  mean_rating\n",
              "bank_name                                  \n",
              "Тинькофф Банк            44864     4.783568"
            ],
            "text/html": [
              "\n",
              "  <div id=\"df-1dafc886-372b-4aef-9cb0-ecef5394ae8c\">\n",
              "    <div class=\"colab-df-container\">\n",
              "      <div>\n",
              "<style scoped>\n",
              "    .dataframe tbody tr th:only-of-type {\n",
              "        vertical-align: middle;\n",
              "    }\n",
              "\n",
              "    .dataframe tbody tr th {\n",
              "        vertical-align: top;\n",
              "    }\n",
              "\n",
              "    .dataframe thead th {\n",
              "        text-align: right;\n",
              "    }\n",
              "</style>\n",
              "<table border=\"1\" class=\"dataframe\">\n",
              "  <thead>\n",
              "    <tr style=\"text-align: right;\">\n",
              "      <th></th>\n",
              "      <th>bank_name_count</th>\n",
              "      <th>mean_rating</th>\n",
              "    </tr>\n",
              "    <tr>\n",
              "      <th>bank_name</th>\n",
              "      <th></th>\n",
              "      <th></th>\n",
              "    </tr>\n",
              "  </thead>\n",
              "  <tbody>\n",
              "    <tr>\n",
              "      <th>Тинькофф Банк</th>\n",
              "      <td>44864</td>\n",
              "      <td>4.783568</td>\n",
              "    </tr>\n",
              "  </tbody>\n",
              "</table>\n",
              "</div>\n",
              "      <button class=\"colab-df-convert\" onclick=\"convertToInteractive('df-1dafc886-372b-4aef-9cb0-ecef5394ae8c')\"\n",
              "              title=\"Convert this dataframe to an interactive table.\"\n",
              "              style=\"display:none;\">\n",
              "        \n",
              "  <svg xmlns=\"http://www.w3.org/2000/svg\" height=\"24px\"viewBox=\"0 0 24 24\"\n",
              "       width=\"24px\">\n",
              "    <path d=\"M0 0h24v24H0V0z\" fill=\"none\"/>\n",
              "    <path d=\"M18.56 5.44l.94 2.06.94-2.06 2.06-.94-2.06-.94-.94-2.06-.94 2.06-2.06.94zm-11 1L8.5 8.5l.94-2.06 2.06-.94-2.06-.94L8.5 2.5l-.94 2.06-2.06.94zm10 10l.94 2.06.94-2.06 2.06-.94-2.06-.94-.94-2.06-.94 2.06-2.06.94z\"/><path d=\"M17.41 7.96l-1.37-1.37c-.4-.4-.92-.59-1.43-.59-.52 0-1.04.2-1.43.59L10.3 9.45l-7.72 7.72c-.78.78-.78 2.05 0 2.83L4 21.41c.39.39.9.59 1.41.59.51 0 1.02-.2 1.41-.59l7.78-7.78 2.81-2.81c.8-.78.8-2.07 0-2.86zM5.41 20L4 18.59l7.72-7.72 1.47 1.35L5.41 20z\"/>\n",
              "  </svg>\n",
              "      </button>\n",
              "      \n",
              "  <style>\n",
              "    .colab-df-container {\n",
              "      display:flex;\n",
              "      flex-wrap:wrap;\n",
              "      gap: 12px;\n",
              "    }\n",
              "\n",
              "    .colab-df-convert {\n",
              "      background-color: #E8F0FE;\n",
              "      border: none;\n",
              "      border-radius: 50%;\n",
              "      cursor: pointer;\n",
              "      display: none;\n",
              "      fill: #1967D2;\n",
              "      height: 32px;\n",
              "      padding: 0 0 0 0;\n",
              "      width: 32px;\n",
              "    }\n",
              "\n",
              "    .colab-df-convert:hover {\n",
              "      background-color: #E2EBFA;\n",
              "      box-shadow: 0px 1px 2px rgba(60, 64, 67, 0.3), 0px 1px 3px 1px rgba(60, 64, 67, 0.15);\n",
              "      fill: #174EA6;\n",
              "    }\n",
              "\n",
              "    [theme=dark] .colab-df-convert {\n",
              "      background-color: #3B4455;\n",
              "      fill: #D2E3FC;\n",
              "    }\n",
              "\n",
              "    [theme=dark] .colab-df-convert:hover {\n",
              "      background-color: #434B5C;\n",
              "      box-shadow: 0px 1px 3px 1px rgba(0, 0, 0, 0.15);\n",
              "      filter: drop-shadow(0px 1px 2px rgba(0, 0, 0, 0.3));\n",
              "      fill: #FFFFFF;\n",
              "    }\n",
              "  </style>\n",
              "\n",
              "      <script>\n",
              "        const buttonEl =\n",
              "          document.querySelector('#df-1dafc886-372b-4aef-9cb0-ecef5394ae8c button.colab-df-convert');\n",
              "        buttonEl.style.display =\n",
              "          google.colab.kernel.accessAllowed ? 'block' : 'none';\n",
              "\n",
              "        async function convertToInteractive(key) {\n",
              "          const element = document.querySelector('#df-1dafc886-372b-4aef-9cb0-ecef5394ae8c');\n",
              "          const dataTable =\n",
              "            await google.colab.kernel.invokeFunction('convertToInteractive',\n",
              "                                                     [key], {});\n",
              "          if (!dataTable) return;\n",
              "\n",
              "          const docLinkHtml = 'Like what you see? Visit the ' +\n",
              "            '<a target=\"_blank\" href=https://colab.research.google.com/notebooks/data_table.ipynb>data table notebook</a>'\n",
              "            + ' to learn more about interactive tables.';\n",
              "          element.innerHTML = '';\n",
              "          dataTable['output_type'] = 'display_data';\n",
              "          await google.colab.output.renderOutput(dataTable, element);\n",
              "          const docLink = document.createElement('div');\n",
              "          docLink.innerHTML = docLinkHtml;\n",
              "          element.appendChild(docLink);\n",
              "        }\n",
              "      </script>\n",
              "    </div>\n",
              "  </div>\n",
              "  "
            ]
          },
          "metadata": {},
          "execution_count": 55
        }
      ]
    },
    {
      "cell_type": "markdown",
      "source": [
        "---\n",
        "### Сделать выводы об изменении среднего рейтинга банков по месяцам из топ-5 банков по числу отзывов"
      ],
      "metadata": {
        "id": "F1n9JJKAFFDA"
      }
    },
    {
      "cell_type": "markdown",
      "source": [
        "Найдем топ-5 банков по количеству отзывов"
      ],
      "metadata": {
        "id": "gu3kv_hqz-Ex"
      }
    },
    {
      "cell_type": "code",
      "source": [
        "top15_count_body = list(data\n",
        "                        .groupby('bank_name')\n",
        "                        .size().reset_index(name='counts')\n",
        "                        .sort_values(by='counts', ascending=False)\n",
        "                        .head(5)\n",
        "                        .bank_name\n",
        "                        )\n",
        "top15_count_body"
      ],
      "metadata": {
        "id": "3PNUEol6vhuA",
        "colab": {
          "base_uri": "https://localhost:8080/"
        },
        "outputId": "cf4121bb-05df-4063-bcb5-9f50e5b7c332"
      },
      "execution_count": 56,
      "outputs": [
        {
          "output_type": "execute_result",
          "data": {
            "text/plain": [
              "['Тинькофф Банк', 'Хоум Кредит Банк', 'Совкомбанк', 'ВТБ', 'СберБанк']"
            ]
          },
          "metadata": {},
          "execution_count": 56
        }
      ]
    },
    {
      "cell_type": "code",
      "source": [
        "data['date_ym'] = pd.to_datetime(data['date'], infer_datetime_format=True).dt.strftime('%Y-%m')"
      ],
      "metadata": {
        "id": "zM12eYpvExuN"
      },
      "execution_count": 27,
      "outputs": []
    },
    {
      "cell_type": "code",
      "source": [
        "plt.figure(figsize=(20,9))\n",
        "plt.title(\"Измнение оценок топ-5 банков по количеству отзывов во времени\")\n",
        "\n",
        "for bank in top15_count_body:\n",
        "  sns.lineplot(x = \"date_ym\", y = \"rating\", data=data.loc[data['bank_name'] == bank][::-1], label=bank)"
      ],
      "metadata": {
        "id": "Ivl2whW7zv5r",
        "colab": {
          "base_uri": "https://localhost:8080/",
          "height": 526
        },
        "outputId": "7f449dfe-24d8-42b1-a982-b898e3f8210c"
      },
      "execution_count": 51,
      "outputs": [
        {
          "output_type": "display_data",
          "data": {
            "text/plain": [
              "<Figure size 1440x648 with 1 Axes>"
            ],
            "image/png": "[encoded data removed]"
          },
          "metadata": {
            "needs_background": "light"
          }
        }
      ]
    },
    {
      "cell_type": "markdown",
      "source": [
        "Выводы: \n",
        "\n",
        "\n",
        "*   До наступления 2023 разброс оценки был небольшой\n",
        "*   После 2023 сильно упали рейтинги и вырости расбросы оценок у всех банков\n",
        "*   Наиболее сильный негативный скачек наблюдается у банка хоум кредит\n",
        "*   У Совкомбанка наоборот стуация лучшая из пятерки банков, что позволило обойти Тинькофф Банк\n",
        "*   Возможно Хоум Кредит провели новую компанию, из-за которой мнения клиентов сильно разделились\n",
        " \n",
        "\n"
      ],
      "metadata": {
        "id": "dTyIvG8EFue1"
      }
    },
    {
      "cell_type": "markdown",
      "source": [
        "---\n",
        "### нет ли в данных в целом каких-то странностей на ваш взгляд?\n",
        "\n",
        "\n",
        "\n",
        "1.   Меня смутило почему журнал велся в обратном порядке. Обычно данные добавляются последнем полем, но здесь ситуация обратная\n",
        "2.   Новый пункт\n",
        "\n"
      ],
      "metadata": {
        "id": "_6GhqI2ev65I"
      }
    },
    {
      "cell_type": "markdown",
      "source": [
        "---\n",
        "\n",
        "# Моделирование"
      ],
      "metadata": {
        "id": "T1mkV275GcKH"
      }
    },
    {
      "cell_type": "markdown",
      "source": [
        "создание бинарного таргета"
      ],
      "metadata": {
        "id": "Rky_ZC7tJ-o-"
      }
    },
    {
      "cell_type": "code",
      "source": [
        "data['target'] = np.where(data.rating >= 3, 1, 0)"
      ],
      "metadata": {
        "id": "S_0s2kvuMzN5"
      },
      "execution_count": 29,
      "outputs": []
    },
    {
      "cell_type": "markdown",
      "source": [
        "разделение выборки"
      ],
      "metadata": {
        "id": "FqQNa8XCKBjn"
      }
    },
    {
      "cell_type": "code",
      "source": [
        "train, val, test = np.split(data, [int(.7*len(data)), int(.85*len(data))])"
      ],
      "metadata": {
        "id": "UnddJM8CIDmB"
      },
      "execution_count": 30,
      "outputs": []
    },
    {
      "cell_type": "code",
      "source": [
        "print(\"Размер train выборки:\\t\", train.shape[0])\n",
        "print(\"Размер valid выборки:\\t\", val.shape[0])\n",
        "print(\"Размер test выборки:\\t\", test.shape[0])"
      ],
      "metadata": {
        "colab": {
          "base_uri": "https://localhost:8080/"
        },
        "id": "Jk_VVVECK6KZ",
        "outputId": "84af7f59-7a77-4eb0-d69f-e09918d0256d"
      },
      "execution_count": 64,
      "outputs": [
        {
          "output_type": "stream",
          "name": "stdout",
          "text": [
            "Размер train выборки:\t 64914\n",
            "Размер valid выборки:\t 13910\n",
            "Размер test выборки:\t 13911\n"
          ]
        }
      ]
    },
    {
      "cell_type": "code",
      "source": [
        "X_train = train['body'].values\n",
        "y_train = train['target'].values\n",
        "\n",
        "X_val = val['body'].values\n",
        "y_val = val['target'].values\n",
        "\n",
        "X_test = test['body'].values\n",
        "y_test = test['target'].values"
      ],
      "metadata": {
        "id": "8kzriJesK_2O"
      },
      "execution_count": 32,
      "outputs": []
    },
    {
      "cell_type": "markdown",
      "source": [
        "создание вспомогательных функций-предобработки"
      ],
      "metadata": {
        "id": "fga6O9scKFSJ"
      }
    },
    {
      "cell_type": "code",
      "source": [
        "def strip_html_tags(text):\n",
        "    soup = BeautifulSoup(text, \"html.parser\")\n",
        "    [s.extract() for s in soup(['iframe', 'script'])]\n",
        "    stripped_text = soup.get_text()\n",
        "    stripped_text = re.sub(r'[\\r|\\n|\\r\\n]+', '\\n', stripped_text)\n",
        "    return stripped_text\n",
        "\n",
        "def remove_accented_chars(text):\n",
        "    text = unicodedata.normalize('NFKD', text).encode('ascii', 'ignore').decode('utf-8', 'ignore')\n",
        "    return text\n",
        "    \n",
        "def pre_process_corpus(docs):\n",
        "    norm_docs = []\n",
        "    for doc in tqdm.tqdm(docs):\n",
        "        doc = strip_html_tags(doc)\n",
        "        doc = doc.translate(doc.maketrans(\"\\n\\t\\r\", \"   \"))\n",
        "        doc = doc.lower()\n",
        "        doc = remove_accented_chars(doc)\n",
        "        doc = contractions.fix(doc)\n",
        "        # lower case and remove special characters\\whitespaces\n",
        "        doc = re.sub(r'[^a-zA-Z0-9\\s]', '', doc, re.I|re.A)\n",
        "        doc = re.sub(' +', ' ', doc)\n",
        "        doc = doc.strip()  \n",
        "        norm_docs.append(doc)\n",
        "  \n",
        "    return norm_docs"
      ],
      "metadata": {
        "id": "_uCVr21INpOk"
      },
      "execution_count": 33,
      "outputs": []
    },
    {
      "cell_type": "markdown",
      "source": [
        "препроцессинг"
      ],
      "metadata": {
        "id": "2v2vdwnNKKBt"
      }
    },
    {
      "cell_type": "code",
      "source": [
        "X_train = pre_process_corpus(X_train)\n",
        "X_val = pre_process_corpus(X_val)\n",
        "X_test = pre_process_corpus(X_test)"
      ],
      "metadata": {
        "colab": {
          "base_uri": "https://localhost:8080/"
        },
        "id": "_DEriJFmNfMs",
        "outputId": "6f129f4e-45b3-4127-9658-2ad6d6c9544d"
      },
      "execution_count": 34,
      "outputs": [
        {
          "output_type": "stream",
          "name": "stderr",
          "text": [
            "100%|██████████| 64914/64914 [00:23<00:00, 2789.42it/s]\n",
            "100%|██████████| 13910/13910 [00:02<00:00, 4996.86it/s]\n",
            "100%|██████████| 13911/13911 [00:03<00:00, 4444.62it/s]\n"
          ]
        }
      ]
    },
    {
      "cell_type": "code",
      "source": [
        "t = Tokenizer(oov_token='<UNK>')\n",
        "t.fit_on_texts(X_train)\n",
        "t.word_index['<PAD>'] = 0"
      ],
      "metadata": {
        "id": "9NhBgBhHNoH0"
      },
      "execution_count": 35,
      "outputs": []
    },
    {
      "cell_type": "code",
      "source": [
        "X_train = t.texts_to_sequences(X_train)\n",
        "X_test = t.texts_to_sequences(X_test)\n",
        "X_val = t.texts_to_sequences(X_val)"
      ],
      "metadata": {
        "id": "Q2jqCsnmOTJe"
      },
      "execution_count": 36,
      "outputs": []
    },
    {
      "cell_type": "code",
      "source": [
        "X_train = sequence.pad_sequences(X_train, maxlen=200)\n",
        "X_test = sequence.pad_sequences(X_test, maxlen=200)\n",
        "X_val = sequence.pad_sequences(X_val, maxlen=200)"
      ],
      "metadata": {
        "id": "qp2-Xu1POV9q"
      },
      "execution_count": 37,
      "outputs": []
    },
    {
      "cell_type": "code",
      "source": [
        "le = LabelEncoder()\n",
        "num_classes=2 # positive -> 1, negative -> 0\n",
        "\n",
        "y_train = le.fit_transform(y_train)\n",
        "y_test = le.transform(y_test)\n",
        "y_val = le.transform(y_val)"
      ],
      "metadata": {
        "id": "VIjKsKCGOa7l"
      },
      "execution_count": 38,
      "outputs": []
    },
    {
      "cell_type": "code",
      "source": [
        "EMBEDDING_DIM = 300\n",
        "MAX_SEQUENCE_LENGTH = 200\n",
        "VOCAB_SIZE = len(t.word_index)"
      ],
      "metadata": {
        "id": "b-QbOLHaOiHT"
      },
      "execution_count": 39,
      "outputs": []
    },
    {
      "cell_type": "markdown",
      "source": [
        "создание модели"
      ],
      "metadata": {
        "id": "fCwGsS0QQerk"
      }
    },
    {
      "cell_type": "code",
      "source": [
        "model = Sequential()\n",
        "\n",
        "# The Embedding Layer\n",
        "model.add(Embedding(VOCAB_SIZE, EMBEDDING_DIM, input_length=MAX_SEQUENCE_LENGTH))\n",
        "\n",
        "# The LSTM layer (64)\n",
        "model.add(LSTM(64))\n",
        "\n",
        "# The first DEnse layer (24,relu)\n",
        "model.add(Dense(24, activation='relu'))\n",
        "\n",
        "# The first DEnse layer (24,relu)\n",
        "model.add(Dense(1, activation='sigmoid'))\n",
        "\n",
        "# compile model\n",
        "model.compile(loss='BinaryCrossentropy',\n",
        "              optimizer=tf.keras.optimizers.Adam(1e-4), \n",
        "              metrics=['accuracy'])\n",
        "\n",
        "# model summary\n",
        "model.summary()"
      ],
      "metadata": {
        "colab": {
          "base_uri": "https://localhost:8080/"
        },
        "id": "rq3NzVWIOkkT",
        "outputId": "6d9f905a-6446-4e91-f2ed-8bbbac7f78e6"
      },
      "execution_count": 40,
      "outputs": [
        {
          "output_type": "stream",
          "name": "stdout",
          "text": [
            "Model: \"sequential\"\n",
            "_________________________________________________________________\n",
            " Layer (type)                Output Shape              Param #   \n",
            "=================================================================\n",
            " embedding (Embedding)       (None, 200, 300)          4185900   \n",
            "                                                                 \n",
            " lstm (LSTM)                 (None, 64)                93440     \n",
            "                                                                 \n",
            " dense (Dense)               (None, 24)                1560      \n",
            "                                                                 \n",
            " dense_1 (Dense)             (None, 1)                 25        \n",
            "                                                                 \n",
            "=================================================================\n",
            "Total params: 4,280,925\n",
            "Trainable params: 4,280,925\n",
            "Non-trainable params: 0\n",
            "_________________________________________________________________\n"
          ]
        }
      ]
    },
    {
      "cell_type": "markdown",
      "source": [
        "обучение"
      ],
      "metadata": {
        "id": "gKtaXd__QjNn"
      }
    },
    {
      "cell_type": "code",
      "source": [
        "with tf.device('/GPU:0'):\n",
        "    history1 = model.fit(X_train, y_train,validation_data=(X_val,y_val), epochs=10, validation_steps=30, verbose=1)"
      ],
      "metadata": {
        "colab": {
          "base_uri": "https://localhost:8080/"
        },
        "id": "OYNqIYxrOnUI",
        "outputId": "bb5e3256-6436-4688-bb86-273f4ce2d609"
      },
      "execution_count": 41,
      "outputs": [
        {
          "output_type": "stream",
          "name": "stdout",
          "text": [
            "Epoch 1/10\n",
            "2029/2029 [==============================] - 462s 226ms/step - loss: 0.3784 - accuracy: 0.8480 - val_loss: 0.2594 - val_accuracy: 0.9081\n",
            "Epoch 2/10\n",
            "2029/2029 [==============================] - 457s 225ms/step - loss: 0.3339 - accuracy: 0.8700 - val_loss: 0.2573 - val_accuracy: 0.9129\n",
            "Epoch 3/10\n",
            "2029/2029 [==============================] - 458s 226ms/step - loss: 0.3202 - accuracy: 0.8774 - val_loss: 0.2448 - val_accuracy: 0.9127\n",
            "Epoch 4/10\n",
            "2029/2029 [==============================] - 457s 225ms/step - loss: 0.3102 - accuracy: 0.8828 - val_loss: 0.2561 - val_accuracy: 0.9111\n",
            "Epoch 5/10\n",
            "2029/2029 [==============================] - 523s 258ms/step - loss: 0.3016 - accuracy: 0.8883 - val_loss: 0.2561 - val_accuracy: 0.9114\n",
            "Epoch 6/10\n",
            "2029/2029 [==============================] - 480s 237ms/step - loss: 0.2939 - accuracy: 0.8923 - val_loss: 0.2651 - val_accuracy: 0.9083\n",
            "Epoch 7/10\n",
            "2029/2029 [==============================] - 479s 236ms/step - loss: 0.2874 - accuracy: 0.8964 - val_loss: 0.2504 - val_accuracy: 0.9104\n",
            "Epoch 8/10\n",
            "2029/2029 [==============================] - 483s 238ms/step - loss: 0.2818 - accuracy: 0.8986 - val_loss: 0.2563 - val_accuracy: 0.9101\n",
            "Epoch 9/10\n",
            "2029/2029 [==============================] - 483s 238ms/step - loss: 0.2774 - accuracy: 0.8997 - val_loss: 0.2595 - val_accuracy: 0.9102\n",
            "Epoch 10/10\n",
            "2029/2029 [==============================] - 481s 237ms/step - loss: 0.2744 - accuracy: 0.9013 - val_loss: 0.2634 - val_accuracy: 0.9085\n"
          ]
        }
      ]
    },
    {
      "cell_type": "markdown",
      "source": [
        "функции визуализации обучения модели"
      ],
      "metadata": {
        "id": "0l0bA-g0Qlb9"
      }
    },
    {
      "cell_type": "code",
      "source": [
        "def date_time(x):\n",
        "    if x==1:\n",
        "        return 'Timestamp: {:%Y-%m-%d %H:%M:%S}'.format(datetime.datetime.now())\n",
        "    if x==2:    \n",
        "        return 'Timestamp: {:%Y-%b-%d %H:%M:%S}'.format(datetime.datetime.now())\n",
        "    if x==3:  \n",
        "        return 'Date now: %s' % datetime.datetime.now()\n",
        "    if x==4:  \n",
        "        return 'Date today: %s' % datetime.date.today()\n",
        "\n",
        "        \n",
        "def plot_performance(history=None, figure_directory=None, ylim_pad=[0, 0]):\n",
        "    xlabel = 'Epoch'\n",
        "    legends = ['Training', 'Validation']\n",
        "\n",
        "    plt.figure(figsize=(20, 5))\n",
        "\n",
        "    y1 = history.history['accuracy']\n",
        "    y2 = history.history['val_accuracy']\n",
        "\n",
        "    min_y = min(min(y1), min(y2))-ylim_pad[0]\n",
        "    max_y = max(max(y1), max(y2))+ylim_pad[0]\n",
        "\n",
        "\n",
        "    plt.subplot(121)\n",
        "\n",
        "    plt.plot(y1)\n",
        "    plt.plot(y2)\n",
        "\n",
        "    plt.title('Model Accuracy\\n'+date_time(1), fontsize=17)\n",
        "    plt.xlabel(xlabel, fontsize=15)\n",
        "    plt.ylabel('Accuracy', fontsize=15)\n",
        "    plt.ylim(min_y, max_y)\n",
        "    plt.legend(legends, loc='upper left')\n",
        "    plt.grid()\n",
        "\n",
        "    y1 = history.history['loss']\n",
        "    y2 = history.history['val_loss']\n",
        "\n",
        "    min_y = min(min(y1), min(y2))-ylim_pad[1]\n",
        "    max_y = max(max(y1), max(y2))+ylim_pad[1]\n",
        "\n",
        "\n",
        "    plt.subplot(122)\n",
        "\n",
        "    plt.plot(y1)\n",
        "    plt.plot(y2)\n",
        "\n",
        "    plt.title('Model Loss\\n'+date_time(1), fontsize=17)\n",
        "    plt.xlabel(xlabel, fontsize=15)\n",
        "    plt.ylabel('Loss', fontsize=15)\n",
        "    plt.ylim(min_y, max_y)\n",
        "    plt.legend(legends, loc='upper left')\n",
        "    plt.grid()\n",
        "    if figure_directory:\n",
        "        plt.savefig(figure_directory+\"/history\")\n",
        "\n",
        "    plt.show()"
      ],
      "metadata": {
        "id": "GtgOCXrrOrTT"
      },
      "execution_count": 44,
      "outputs": []
    },
    {
      "cell_type": "code",
      "source": [
        "plot_performance(history=history1)"
      ],
      "metadata": {
        "colab": {
          "base_uri": "https://localhost:8080/",
          "height": 349
        },
        "id": "rMoDt6PrO5cD",
        "outputId": "f89ea242-3044-4998-fb62-6f9a7f8d2f73"
      },
      "execution_count": 47,
      "outputs": [
        {
          "output_type": "display_data",
          "data": {
            "text/plain": [
              "<Figure size 1440x360 with 2 Axes>"
            ],
            "image/png": "[encoded data removed]"
          },
          "metadata": {
            "needs_background": "light"
          }
        }
      ]
    },
    {
      "cell_type": "code",
      "source": [
        "scores = model.evaluate(X_test, y_test, verbose=1)\n",
        "print(\"Accuracy: %.2f%%\" % (scores[1]*100))"
      ],
      "metadata": {
        "colab": {
          "base_uri": "https://localhost:8080/"
        },
        "id": "Bnqoa0afO8Gl",
        "outputId": "61cc4e49-3094-4343-da02-3dd0b3f8ddc9"
      },
      "execution_count": 48,
      "outputs": [
        {
          "output_type": "stream",
          "name": "stdout",
          "text": [
            "435/435 [==============================] - 26s 60ms/step - loss: 0.6379 - accuracy: 0.7048\n",
            "Accuracy: 70.48%\n"
          ]
        }
      ]
    },
    {
      "cell_type": "code",
      "source": [
        "model.save('Ai_trainsformation_binary_classification_task.h5')"
      ],
      "metadata": {
        "id": "nUvKFcgCO_tu"
      },
      "execution_count": 49,
      "outputs": []
    }
  ]
}